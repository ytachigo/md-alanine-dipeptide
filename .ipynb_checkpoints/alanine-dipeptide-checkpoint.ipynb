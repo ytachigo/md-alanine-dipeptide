{
 "cells": [
  {
   "cell_type": "code",
   "execution_count": 9,
   "metadata": {},
   "outputs": [],
   "source": [
    "# Import libraries\n",
    "import numpy as np\n",
    "from scipy.linalg import eigh\n",
    "import pandas as pd\n",
    "import matplotlib\n",
    "import matplotlib.pyplot as plt\n",
    "import seaborn as sns"
   ]
  },
  {
   "cell_type": "code",
   "execution_count": 67,
   "metadata": {},
   "outputs": [],
   "source": [
    "# Setup and run a MD simulation of alanine dipeptide\n",
    "from simtk.openmm.app import *\n",
    "from simtk.openmm import *\n",
    "from simtk.unit import *\n",
    "from sys import stdout\n",
    "\n",
    "prmtop = AmberPrmtopFile('inputs/adip.prmtop')\n",
    "inpcrd = AmberInpcrdFile('inputs/adip.inpcrd')\n",
    "system = prmtop.createSystem(implicitSolvent=GBn, nonbondedCutoff=1 * nanometer,\n",
    "        constraints=HBonds)\n",
    "integrator = LangevinIntegrator(310 * kelvin, 1 / picosecond, 0.002 * picoseconds)\n",
    "simulation = Simulation(prmtop.topology, system, integrator)\n",
    "simulation.context.setPositions(inpcrd.positions)\n",
    "if inpcrd.boxVectors is not None:\n",
    "    simulation.context.setPeriodicBoxVectors(*inpcrd.boxVectors)\n",
    "simulation.minimizeEnergy()\n",
    "simulation.reporters.append(PDBReporter('outputs/output.pdb', 100))\n",
    "simulation.reporters.append(DCDReporter('outputs/output.dcd', 100))\n",
    "simulation.reporters.append(StateDataReporter('outputs/stdout', 100, step=True,\n",
    "        potentialEnergy=True, temperature=True))\n",
    "simulation.step(10000)"
   ]
  },
  {
   "cell_type": "code",
   "execution_count": 68,
   "metadata": {},
   "outputs": [],
   "source": [
    "import pytraj as pt\n",
    "import nglview as nv\n",
    "import warnings\n",
    "warnings.filterwarnings(\"ignore\", category=DeprecationWarning) "
   ]
  },
  {
   "cell_type": "code",
   "execution_count": 69,
   "metadata": {
    "scrolled": false
   },
   "outputs": [
    {
     "data": {
      "application/vnd.jupyter.widget-view+json": {
       "model_id": "00772c8ddb5f49c5b3be3a0e16cb9bb7",
       "version_major": 2,
       "version_minor": 0
      },
      "text/plain": [
       "NGLWidget(max_frame=99)"
      ]
     },
     "metadata": {},
     "output_type": "display_data"
    }
   ],
   "source": [
    "traj = pt.load('outputs/output.dcd', top='inputs/adip.prmtop')\n",
    "view = nv.show_pytraj(traj)\n",
    "view.add_representation('licorice')\n",
    "view"
   ]
  },
  {
   "cell_type": "code",
   "execution_count": null,
   "metadata": {},
   "outputs": [],
   "source": []
  }
 ],
 "metadata": {
  "kernelspec": {
   "display_name": "Python 3",
   "language": "python",
   "name": "python3"
  },
  "language_info": {
   "codemirror_mode": {
    "name": "ipython",
    "version": 3
   },
   "file_extension": ".py",
   "mimetype": "text/x-python",
   "name": "python",
   "nbconvert_exporter": "python",
   "pygments_lexer": "ipython3",
   "version": "3.6.5"
  }
 },
 "nbformat": 4,
 "nbformat_minor": 2
}
